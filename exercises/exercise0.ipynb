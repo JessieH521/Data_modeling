{
 "cells": [
  {
   "cell_type": "markdown",
   "metadata": {},
   "source": [
    "0. Convert this table data into json data You have an SQL table that looks like this\n",
    "\n",
    "CREATE TABLE Employees (\n",
    "    employee_id INT PRIMARY KEY,\n",
    "    first_name VARCHAR(50),\n",
    "    last_name VARCHAR(50),\n",
    "    department VARCHAR(50),\n",
    "    salary INT\n",
    ");\n",
    "\n",
    "INSERT INTO Employees VALUES (1, 'Hakan', 'Hakansson', 'HR', 30000);\n",
    "INSERT INTO Employees VALUES (2, 'Bob', 'Bobson', 'IT', 35000);\n",
    "\n",
    "a) Start with writing out the table with the data\n",
    "\n",
    "b) Convert this into semi-structured JSON format. Do it manually not programmatically."
   ]
  },
  {
   "cell_type": "markdown",
   "metadata": {},
   "source": [
    "a) Table: Employees\n",
    "employee_id  first_name  last_name  department  salary\n",
    "      1      Hakan         Hakansson   HR       30000\n",
    "      2      Bob           Bobson      IT       35000       \n",
    "\n",
    "b) json:  key: value\n",
    "\n",
    "{\"Employees\": [\n",
    "    {\"employee_id\": 1,\n",
    "    \"first_name\":Hakan,\n",
    "    \"last_name\":\"Hakansson\",\n",
    "    \"department\": \"HR\",\n",
    "    \"salary\": 30000},\n",
    "\n",
    "    {\"employee_id\": 2,\n",
    "    \"first_name\": Bob,\n",
    "    \"last_name\":\"Bobson\",\n",
    "    \"department\": \"IT\",\n",
    "    \"salary\": 35000}\n",
    "]}\n"
   ]
  },
  {
   "cell_type": "markdown",
   "metadata": {},
   "source": []
  },
  {
   "cell_type": "markdown",
   "metadata": {},
   "source": [
    "1. You have this json data, convert it into three tables: Hospital, Department and Doctor. Fill these tables with data. Do this manually and not programmatically.\n",
    "\n",
    "{\n",
    "  \"hospital\": \"Sjukhusstock\",\n",
    "  \"address\": \"Drottninggatan 3, Stockholm\",\n",
    "  \"departments\": [\n",
    "    {\n",
    "      \"name\": \"Kardiologi\",\n",
    "      \"doctors\": [\n",
    "        { \"id\": 1, \"name\": \"Dr. Abra Abrahamson\" },\n",
    "        { \"id\": 2, \"name\": \"Dr. Erika Eriksson\" }\n",
    "      ]\n",
    "    },\n",
    "    {\n",
    "      \"name\": \"Neurologi\",\n",
    "      \"doctors\": [{ \"id\": 3, \"name\": \"Dr. Sven Svensson\" }]\n",
    "    }\n",
    "  ]\n",
    "}"
   ]
  },
  {
   "cell_type": "markdown",
   "metadata": {},
   "source": [
    "- Hospital\n",
    "  hospital_id    hospital_name  address\n",
    "  h01            Sjukhusstock   Drottninggatan 3, Stockholm\n",
    "  \n",
    "- Department \n",
    "    departments_id    d_name          hospital_id\n",
    "     d01              Kardiologi      h01\n",
    "     d02              Neurologi       h01\n",
    "\n",
    "- Doctor\n",
    "    doctor_id       name         departments_id \n",
    "      1     Dr. Abra Abrahamson   d01\n",
    "      2     Dr. Erika Eriksson    d01\n",
    "      3     Dr. Sven Svensson     d02"
   ]
  },
  {
   "cell_type": "code",
   "execution_count": 2,
   "metadata": {
    "vscode": {
     "languageId": "sql"
    }
   },
   "outputs": [
    {
     "ename": "SyntaxError",
     "evalue": "invalid syntax (3293625899.py, line 1)",
     "output_type": "error",
     "traceback": [
      "\u001b[0;36m  Cell \u001b[0;32mIn[2], line 1\u001b[0;36m\u001b[0m\n\u001b[0;31m    CREATE TABLE Hospital (\u001b[0m\n\u001b[0m           ^\u001b[0m\n\u001b[0;31mSyntaxError\u001b[0m\u001b[0;31m:\u001b[0m invalid syntax\n"
     ]
    }
   ],
   "source": [
    "-- 创建 Hospital 表\n",
    "CREATE TABLE Hospital (\n",
    "    hospital_id INT PRIMARY KEY,\n",
    "    name VARCHAR(100),\n",
    "    address VARCHAR(255)\n",
    ");\n",
    "\n",
    "-- 插入医院数据\n",
    "INSERT INTO Hospital VALUES (1, 'Sjukhusstock', 'Drottninggatan 3, Stockholm');\n",
    "\n",
    "-- 创建 Department 表\n",
    "CREATE TABLE Department (\n",
    "    department_id INT PRIMARY KEY,\n",
    "    name VARCHAR(100),\n",
    "    hospital_id INT,\n",
    "    FOREIGN KEY (hospital_id) REFERENCES Hospital(hospital_id)\n",
    ");\n",
    "\n",
    "-- 插入科室数据\n",
    "INSERT INTO Department VALUES (1, 'Kardiologi', 1);\n",
    "INSERT INTO Department VALUES (2, 'Neurologi', 1);\n",
    "\n",
    "\n",
    "-- 创建 Doctor 表\n",
    "CREATE TABLE Doctor (\n",
    "    doctor_id INT PRIMARY KEY,\n",
    "    name VARCHAR(100),\n",
    "    department_id INT,\n",
    "    FOREIGN KEY (department_id) REFERENCES Department(department_id)\n",
    ");\n",
    "\n",
    "-- 插入医生数据\n",
    "INSERT INTO Doctor VALUES (1, 'Dr. Abra Abrahamson', 1);\n",
    "INSERT INTO Doctor VALUES (2, 'Dr. Erika Eriksson', 1);\n",
    "INSERT INTO Doctor VALUES (3, 'Dr. Sven Svensson', 2);\n"
   ]
  },
  {
   "cell_type": "code",
   "execution_count": null,
   "metadata": {
    "vscode": {
     "languageId": "sql"
    }
   },
   "outputs": [],
   "source": []
  },
  {
   "cell_type": "markdown",
   "metadata": {},
   "source": []
  },
  {
   "cell_type": "markdown",
   "metadata": {},
   "source": []
  }
 ],
 "metadata": {
  "kernelspec": {
   "display_name": "base",
   "language": "python",
   "name": "python3"
  },
  "language_info": {
   "codemirror_mode": {
    "name": "ipython",
    "version": 3
   },
   "file_extension": ".py",
   "mimetype": "text/x-python",
   "name": "python",
   "nbconvert_exporter": "python",
   "pygments_lexer": "ipython3",
   "version": "3.11.5"
  }
 },
 "nbformat": 4,
 "nbformat_minor": 2
}
