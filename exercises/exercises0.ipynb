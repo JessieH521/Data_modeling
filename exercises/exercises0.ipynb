{
 "cells": [
  {
   "cell_type": "markdown",
   "metadata": {},
   "source": [
    "0. Convert this table data into json data You have an SQL table that looks like this\n",
    "\n",
    "CREATE TABLE Employees (\n",
    "    employee_id INT PRIMARY KEY,\n",
    "    first_name VARCHAR(50),\n",
    "    last_name VARCHAR(50),\n",
    "    department VARCHAR(50),\n",
    "    salary INT\n",
    ");\n",
    "\n",
    "INSERT INTO Employees VALUES (1, 'Hakan', 'Hakansson', 'HR', 30000);\n",
    "INSERT INTO Employees VALUES (2, 'Bob', 'Bobson', 'IT', 35000);\n",
    "\n",
    "a) Start with writing out the table with the data\n",
    "\n",
    "b) Convert this into semi-structured JSON format. Do it manually not programmatically."
   ]
  },
  {
   "cell_type": "markdown",
   "metadata": {},
   "source": [
    "a) Table: Employees\n",
    "employee_id  first_name  last_name  department  salary\n",
    "      1      Hakan         Hakansson   HR       30000\n",
    "      2      Bob           Bobson      IT       35000       \n",
    "\n",
    "b) json:  key: value\n",
    "\n",
    "{\"Employees\": [\n",
    "    {\"employee_id\": 1,\n",
    "    \"first_name\":Hakan,\n",
    "    \"last_name\":\"Hakansson\",\n",
    "    \"department\": \"HR\",\n",
    "    \"salary\": 30000},\n",
    "\n",
    "    {\"employee_id\": 2,\n",
    "    \"first_name\": Bob,\n",
    "    \"last_name\":\"Bobson\",\n",
    "    \"department\": \"IT\",\n",
    "    \"salary\": 35000}\n",
    "]}\n"
   ]
  },
  {
   "cell_type": "markdown",
   "metadata": {},
   "source": []
  },
  {
   "cell_type": "code",
   "execution_count": null,
   "metadata": {},
   "outputs": [],
   "source": []
  }
 ],
 "metadata": {
  "language_info": {
   "name": "python"
  }
 },
 "nbformat": 4,
 "nbformat_minor": 2
}
